{
 "cells": [
  {
   "cell_type": "markdown",
   "metadata": {},
   "source": [
    "# Influence of Venues on Paris Real-Estate\n",
    "### Data Science Capstone Project for IBM Professional Certificate"
   ]
  },
  {
   "cell_type": "markdown",
   "metadata": {},
   "source": [
    "## Introduction <a name=\"introduction\"></a>"
   ]
  },
  {
   "cell_type": "markdown",
   "metadata": {},
   "source": [
    "In this project we will try to find a correlation between the increase of the real-estate prices and the venues in the corresponding location. This report will be targeted to stakeholders interested in investing in real estate in a major European city, like Paris.\n",
    "\n",
    "Most Paris districts have seen increases in the last 4 years but not in the same way. Was this increase correlated to the type of the surrounding venues? We will cluster the similar districts together and compute the average real estate change in each of them.\n",
    "\n",
    "We will use our data science powers to generate a few most promising zones to invest in."
   ]
  },
  {
   "cell_type": "markdown",
   "metadata": {},
   "source": [
    "## Data <a name=\"data\"></a>"
   ]
  },
  {
   "cell_type": "markdown",
   "metadata": {},
   "source": [
    "Based on the definition of our problem, factors that will influence our decision are:\n",
    "* type and number of existing venues in each district\n",
    "* the real-estate transaction details in each district\n",
    "* the geographical features of the city of Paris\n",
    "\n",
    "The following data sources will be needed to generate the required information:\n",
    "* number of venues, their type and their location in every district will be obtained using **Foursquare API**\n",
    "* the transaction details (value-surface-location) will be obtained using **Etalab API** (French government public datasets)\n",
    "* geographical features as geojson polygons and coordinates of Paris will be obtained from the **Cadastre datasets** (French government public datasets)"
   ]
  }
 ],
 "metadata": {
  "kernelspec": {
   "display_name": "Python",
   "language": "python",
   "name": "conda-env-python-py"
  },
  "language_info": {
   "codemirror_mode": {
    "name": "ipython",
    "version": 3
   },
   "file_extension": ".py",
   "mimetype": "text/x-python",
   "name": "python",
   "nbconvert_exporter": "python",
   "pygments_lexer": "ipython3",
   "version": "3.6.10"
  }
 },
 "nbformat": 4,
 "nbformat_minor": 4
}
